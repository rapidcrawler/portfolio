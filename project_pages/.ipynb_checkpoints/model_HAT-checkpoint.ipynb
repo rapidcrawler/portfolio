{
 "cells": [
  {
   "attachments": {},
   "cell_type": "markdown",
   "id": "5c7b73c5-1f74-4128-9e68-8546ce8620c5",
   "metadata": {},
   "source": [
    "# Methodology\n",
    "___\n",
    "## Step1: Roster Creation\n",
    "Using the hierarchy or product descriptions of the products within a category/subcategory, we create a roster of words.\n",
    "\n",
    "E.g. Lets suppose we have to create a `roster for Electronics` product line, we pickup up `super-category->sub-category`\n",
    "\n",
    "![Image Description](https://raw.githubusercontent.com/rapidcrawler/portfolio/refs/heads/main/imgs/hat_roster.png)"
   ]
  },
  {
   "cell_type": "markdown",
   "id": "d6b4f905-b168-4647-bc47-821308eb1162",
   "metadata": {},
   "source": [
    "## Step2: 1st Degree Of Association\n",
    "First degree connections - the most commonly featuring words along side the target keyword, in social media and Google searches. We get the first degree associations by running the initial roster through Google Trends API.\n",
    "![Image Description](https://raw.githubusercontent.com/rapidcrawler/portfolio/refs/heads/main/imgs/HAT_2.png)"
   ]
  },
  {
   "cell_type": "markdown",
   "id": "b118d85c-502f-47c3-9643-a3e897e4ef53",
   "metadata": {},
   "source": [
    "## Step3: 2nd Degree Of Association\n",
    "The roster generated from the previous step, is run though the Google Trends API again, to get the second degree connections (related topics & queries) and is filtered for only the important keywords\n",
    "\n",
    "![Image Description](https://raw.githubusercontent.com/rapidcrawler/portfolio/refs/heads/main/imgs/HAT_3.png)"
   ]
  },
  {
   "cell_type": "markdown",
   "id": "cbac7663-f667-411f-97a1-fbe237ce5fbe",
   "metadata": {},
   "source": [
    "## Step4: Filtering Retail Products\n",
    "Search each keyword using Google. If the first 10 links contain popular e-commerce website, the keyword can be labelled as a retail product\n",
    "![Image Description](https://raw.githubusercontent.com/rapidcrawler/portfolio/refs/heads/main/imgs/HAT_4.png)"
   ]
  },
  {
   "cell_type": "markdown",
   "id": "e870931f-0814-4a30-b58a-11379a66eb19",
   "metadata": {},
   "source": [
    "## Step5: Early Trend Catch:\n",
    "Against each keyword, calculate the sudden spike in interest\n",
    "![Image Description](https://raw.githubusercontent.com/rapidcrawler/portfolio/refs/heads/main/imgs/HAT_5.png)"
   ]
  },
  {
   "cell_type": "markdown",
   "id": "a7271e6b-958c-46f1-aabe-ba006977d32d",
   "metadata": {},
   "source": [
    "## Step6: Ranking\n",
    "Set a threshold for filtering the top trending products using relative ranking"
   ]
  },
  {
   "cell_type": "markdown",
   "id": "ec8ce257-48bb-4392-80c7-2b82ce5bdcf2",
   "metadata": {},
   "source": [
    "___"
   ]
  },
  {
   "cell_type": "markdown",
   "id": "c84c2862-3d5c-46ba-bf06-ef4da957e189",
   "metadata": {},
   "source": [
    "# **Early Trend: Sudden Spike in Interest**\n",
    "Sudden Spike in Interest = products that are recently gaining interest by looking for a sharp increase in their search interest values over consecutive weeks"
   ]
  },
  {
   "cell_type": "markdown",
   "id": "79b38fa2-8fcf-434b-8551-c49efc3ca086",
   "metadata": {},
   "source": [
    "E.g. If a product like \"__Fidget Spinner__\" shows a trend of increasing search interest from 5 in one week to 40 or 50 in the next week, it suggests that the product is in early stage of to become trendy\n",
    "\n",
    "This can be calculataed using:"
   ]
  },
  {
   "cell_type": "markdown",
   "id": "0aaf749c-f6eb-415c-b445-18db84a1a5f2",
   "metadata": {},
   "source": [
    "## **Percentage Change Formula**\n",
    "\n",
    "$${Percentage \\space Change} = \\frac{\\text{New Value} - \\text{Old Value}}{\\text{Old Value}} \\times 100$$\n",
    "\n",
    "$${Percentage \\space Change} = \\frac{\\text{50} - \\text{5}}{\\text{5}} \\times 100 = 900\\%$$"
   ]
  },
  {
   "cell_type": "markdown",
   "id": "5cf1688d-c638-408d-9aaa-01aa4473b011",
   "metadata": {},
   "source": [
    "And selecting a threshold for Percentage Change, we can tag identifeid products as being `Trendy` \n",
    "\n",
    "And, if they follow Sustained High Interest over multiple weeks, then as being `Hot`"
   ]
  },
  {
   "attachments": {},
   "cell_type": "markdown",
   "id": "48a9bdf5-59f2-4e8f-8de9-da214a3d419a",
   "metadata": {},
   "source": [
    "![image.png](https://raw.githubusercontent.com/rapidcrawler/portfolio/refs/heads/main/imgs/hat_result.png)"
   ]
  }
 ],
 "metadata": {
  "kernelspec": {
   "display_name": "Python 3 (ipykernel)",
   "language": "python",
   "name": "python3"
  },
  "language_info": {
   "codemirror_mode": {
    "name": "ipython",
    "version": 3
   },
   "file_extension": ".py",
   "mimetype": "text/x-python",
   "name": "python",
   "nbconvert_exporter": "python",
   "pygments_lexer": "ipython3",
   "version": "3.11.5"
  }
 },
 "nbformat": 4,
 "nbformat_minor": 5
}
