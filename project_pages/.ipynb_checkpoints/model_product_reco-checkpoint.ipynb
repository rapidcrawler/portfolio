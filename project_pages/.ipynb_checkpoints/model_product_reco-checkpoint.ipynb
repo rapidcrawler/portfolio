{
 "cells": [
  {
   "cell_type": "code",
   "execution_count": 3,
   "id": "db73e53a-b86a-4aab-85b4-d6870286ca37",
   "metadata": {},
   "outputs": [],
   "source": [
    "import streamlit as st\n",
    "import faiss\n",
    "import numpy as np\n",
    "from sentence_transformers import SentenceTransformer\n",
    "import random\n",
    "import nbformat"
   ]
  },
  {
   "cell_type": "code",
   "execution_count": 1,
   "id": "13ecb243-f74c-4eda-86ce-395dd7e6c4b6",
   "metadata": {},
   "outputs": [],
   "source": [
    "# Step 1: Define product descriptions\n",
    "descriptions = [\n",
    "    \"A red cotton shirt with long sleeves\",\n",
    "    \"Blue denim jeans with slim fit design\",\n",
    "    \"Comfortable leather shoes in black color\",\n",
    "    \"Casual t-shirt with cool graphic print\",\n",
    "    \"Soft silk scarf with a floral pattern\",\n",
    "    \"Lightweight running shoes with cushioned sole\",\n",
    "    \"Elegant black dress with lace details\",\n",
    "    \"Woolen winter coat with hood\",\n",
    "    \"Leather handbag with gold accents\",\n",
    "    \"Wireless noise-cancelling headphones\",\n",
    "    \"Bluetooth speaker with deep bass\",\n",
    "    \"Smartphone with 128GB storage and dual camera\",\n",
    "    \"Smartwatch with fitness tracking features\",\n",
    "    \"Laptop with 16GB RAM and Intel i7 processor\",\n",
    "    \"Tablet with 10-inch display and stylus support\",\n",
    "    \"Ergonomic office chair with lumbar support\",\n",
    "    \"Standing desk with adjustable height\",\n",
    "    \"LED desk lamp with adjustable brightness\",\n",
    "    \"Portable hard drive with 2TB storage\",\n",
    "    \"Wireless gaming mouse with RGB lighting\"\n",
    "]"
   ]
  },
  {
   "cell_type": "code",
   "execution_count": 3,
   "id": "b815cb91-49ac-476f-a354-7cf16694082e",
   "metadata": {},
   "outputs": [],
   "source": [
    "# Step 2: Load Sentence-BERT model for vectorization\n",
    "model = SentenceTransformer('all-MiniLM-L6-v2')"
   ]
  },
  {
   "cell_type": "code",
   "execution_count": 18,
   "id": "d6d1bbc9-c569-49f5-9138-e52a4937c2ac",
   "metadata": {},
   "outputs": [
    {
     "name": "stdout",
     "output_type": "stream",
     "text": [
      "Product Recommender\n",
      "Choose a product\n",
      "Tablet with 10-inch display and stylus support \n",
      "\n",
      "Similar products:\n",
      "**Tablet with 10-inch display and stylus support**\n",
      "**Standing desk with adjustable height**\n",
      "**Wireless gaming mouse with RGB lighting**\n",
      "**Smartphone with 128GB storage and dual camera**\n",
      "**LED desk lamp with adjustable brightness**\n"
     ]
    }
   ],
   "source": [
    "# Step 3: Convert product descriptions to vectors\n",
    "product_vectors = model.encode(descriptions)\n",
    "# This step converts textual product descriptions into numerical vectors using a pre-trained model\n",
    "# In this case, the model is a Sentence-BERT model (which was initialized earlier with SentenceTransformer('all-MiniLM-L6-v2'))\n",
    "\n",
    "# Sentence-BERT is a variant of the BERT model that is fine-tuned to generate embeddings for sentences or texts\n",
    "# It transforms each product description into a fixed-size vector that captures the semantic meaning of the sentence\n",
    "\n",
    "# The result (product_vectors) is a list of vectors, one for each product description\n",
    "# Each vector represents the meaning of the corresponding product description in a high-dimensional space\n",
    "\n",
    "# Step 4: Normalize vectors (FAISS recommends normalizing vectors)\n",
    "product_vectors = np.array([vec / np.linalg.norm(vec) for vec in product_vectors])\n",
    "# This step normalizes the vectors to ensure they all have unit length (i.e., their magnitude or length is 1)\n",
    "# This is recommended for similarity searches to ensure that the comparison focuses only on the direction of the vectors, not their magnitude\n",
    "\n",
    "# Step 5: Create FAISS index\n",
    "d = product_vectors.shape[1]  # get dimension of the vector embeddings\n",
    "index = faiss.IndexFlatL2(d)   # FAISS will use this to compute L2 Eucledian distance between vectors during the search process\n",
    "index.add(product_vectors)     # adds the normalized product vectors to the FAISS index. After this, the index is ready for performing similarity searches\n",
    "# FAISS is being used here to efficiently perform nearest-neighbor search based on vector similarity\n",
    "# This step initializes a FAISS index using Euclidean distance (L2) to measure similarity between vectors\n",
    "\n",
    "# Initialize session state\n",
    "if 'clicked_product' not in st.session_state:\n",
    "    st.session_state.clicked_product = None\n",
    "\n",
    "# Step 6: Show product selection radio button    \n",
    "col1, col2 = st.columns(2)\n",
    "with col1:\n",
    "    st.subheader(\"Choose a product\")\n",
    "    clicked_product = st.radio(\"\", descriptions)\n",
    "\n",
    "with col2:\n",
    "    st.subheader(\"Similar products:\")\n",
    "    max_prod_recco = st.slider('Similar Products To Recommend:', min_value=3, max_value=6, value=4)\n",
    "    # This sets the number of similar products (nearest neighbors) that you want to retrieve\n",
    "    \n",
    "    if clicked_product:    \n",
    "        # This variable holds the index of the product that the user selected or clicked\n",
    "        clicked_product_idx = descriptions.index(clicked_product)\n",
    "        # st.write(clicked_product_idx)\n",
    "        \n",
    "        # Vector representation of the product that the user clicked on\n",
    "        query_vector = product_vectors[clicked_product_idx]\n",
    "        # product_vectors = These array of numerical vectors are generated by the Sentence-BERT model and are used to represent the semantic meaning of \n",
    "        # each product description in a high-dimensional space\n",
    "    \n",
    "        # Perform the search for similar products\n",
    "        # In this case, k = 5 means that the search will return the top 5 most similar products to the query product\n",
    "        distances, indices = index.search(np.array([query_vector]), max_prod_recco+1)\n",
    "        # index.search(): This function performs the similarity search using the FAISS index\n",
    "        # distance: Euclidean distance between the query vector and the top k most similar vectors\n",
    "        # indices: positions of the most similar products in the descriptions list\n",
    "    \n",
    "        # Display similar products\n",
    "        st.write(f\"Chosen Product:\\n{clicked_product}\")\n",
    "        st.divider()\n",
    "        st.write(f\"Displaying {max_prod_recco} Suggestions\")\n",
    "        similar_products = [descriptions[i] for i in indices[0]]\n",
    "        for idx, product in enumerate(similar_products, start=1):\n",
    "            st.write(f\"**{idx}: {product}**\")\n",
    "\n",
    "        \n",
    "        # Add reset option\n",
    "        if st.button(\"Reset\"):\n",
    "            st.session_state.clicked_product = None"
   ]
  },
  {
   "cell_type": "code",
   "execution_count": null,
   "id": "f6e509dc-393a-4934-a485-0dd514cbae67",
   "metadata": {},
   "outputs": [],
   "source": []
  }
 ],
 "metadata": {
  "kernelspec": {
   "display_name": "Python 3 (ipykernel)",
   "language": "python",
   "name": "python3"
  },
  "language_info": {
   "codemirror_mode": {
    "name": "ipython",
    "version": 3
   },
   "file_extension": ".py",
   "mimetype": "text/x-python",
   "name": "python",
   "nbconvert_exporter": "python",
   "pygments_lexer": "ipython3",
   "version": "3.11.5"
  }
 },
 "nbformat": 4,
 "nbformat_minor": 5
}
