{
 "cells": [
  {
   "cell_type": "markdown",
   "id": "5c7b73c5-1f74-4128-9e68-8546ce8620c5",
   "metadata": {},
   "source": [
    "# Methodology\n",
    "___\n",
    "## Step1: Roster Creation\n",
    "Using the hierarchy or product descriptions of the products within a category/subcategory, we create a roster of words.\n",
    "## Step2: 1st Degree Of Association\n",
    "First degree connections - the most commonly featuring words along side the target keyword, in social media and Google searches. We get the first degree associations by running the initial roster through Google Trends API.\n",
    "## Step3: 2nd Degree Of Association\n",
    "The roster generated from the previous step, is run though the Google Trends API again, to get the second degree connections (related topics & queries) and is filtered for only the important keywords. \n",
    "## Step4: Filtering Retail Products\n",
    "Search each keyword using Google API. If the first 10 links contain popular e-commerce website, the keyword can be labelled as a retail product. \n",
    "## Step5: Early Trend Catch:\n",
    "Against each keyword, calculate the sudden spike in interest\n",
    "## Step6: Ranking\n",
    "Set a threshold for filtering the top trending products using relative ranking.\n"
   ]
  },
  {
   "cell_type": "markdown",
   "id": "c84c2862-3d5c-46ba-bf06-ef4da957e189",
   "metadata": {},
   "source": [
    "# **Early Trend: Sudden Spike in Interest**\n",
    "Sudden Spike in Interest = products that are recently gaining interest by looking for a sharp increase in their search interest values over consecutive weeks"
   ]
  },
  {
   "cell_type": "markdown",
   "id": "79b38fa2-8fcf-434b-8551-c49efc3ca086",
   "metadata": {},
   "source": [
    "E.g. If a product like \"BBQ Sauce\" shows a trend of increasing search interest from 5 in one week to 40 or 50 in the next week, it suggests that the product is in early stage of to become trendy\n",
    "\n",
    "This can be calculataed using:"
   ]
  },
  {
   "cell_type": "markdown",
   "id": "0aaf749c-f6eb-415c-b445-18db84a1a5f2",
   "metadata": {},
   "source": [
    "## **Percentage Change Formula**\n",
    "\n",
    "$${Percentage \\space Change} = \\frac{\\text{New Value} - \\text{Old Value}}{\\text{Old Value}} \\times 100$$\n"
   ]
  }
 ],
 "metadata": {
  "kernelspec": {
   "display_name": "Python 3 (ipykernel)",
   "language": "python",
   "name": "python3"
  },
  "language_info": {
   "codemirror_mode": {
    "name": "ipython",
    "version": 3
   },
   "file_extension": ".py",
   "mimetype": "text/x-python",
   "name": "python",
   "nbconvert_exporter": "python",
   "pygments_lexer": "ipython3",
   "version": "3.11.4"
  }
 },
 "nbformat": 4,
 "nbformat_minor": 5
}
